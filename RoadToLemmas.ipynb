{
 "cells": [
  {
   "cell_type": "code",
   "execution_count": 4,
   "id": "0fd89172",
   "metadata": {},
   "outputs": [
    {
     "name": "stderr",
     "output_type": "stream",
     "text": [
      "[nltk_data] Downloading package punkt to\n",
      "[nltk_data]     C:\\Users\\moham\\AppData\\Roaming\\nltk_data...\n",
      "[nltk_data]   Package punkt is already up-to-date!\n",
      "[nltk_data] Downloading package stopwords to\n",
      "[nltk_data]     C:\\Users\\moham\\AppData\\Roaming\\nltk_data...\n",
      "[nltk_data]   Package stopwords is already up-to-date!\n"
     ]
    }
   ],
   "source": [
    "from nltk import word_tokenize\n",
    "from nltk.corpus import stopwords\n",
    "from nltk.corpus import wordnet\n",
    "import random\n",
    "import nltk\n",
    "from ruqiya import ruqiya\n",
    "nltk.download('punkt')\n",
    "nltk.download('stopwords')\n",
    "\n",
    "# nltk.download('averaged_perceptron_tagger') # once\n",
    "from nltk import pos_tag\n",
    "from nltk.corpus import stopwords\n"
   ]
  },
  {
   "cell_type": "code",
   "execution_count": 8,
   "id": "b739817e",
   "metadata": {},
   "outputs": [],
   "source": [
    "import pandas as pd\n",
    "df=pd.read_csv(\"C:\\\\Users\\\\moham\\\\Downloads\\\\FinallyLemmas.csv\")"
   ]
  },
  {
   "cell_type": "code",
   "execution_count": 6,
   "id": "1c83a00e",
   "metadata": {},
   "outputs": [],
   "source": [
    "def tokenization(x,idx): # take data copy\n",
    "        tokens = nltk.word_tokenize(x['cleaned_text1'][idx])\n",
    "        return tokens\n",
    "    \n",
    "def stemming(x):\n",
    "    st = nltk.ISRIStemmer()\n",
    "    stemming_root =[st.stem(token) for token in x]\n",
    "    return stemming_root  "
   ]
  },
  {
   "cell_type": "code",
   "execution_count": 7,
   "id": "7404d5a1",
   "metadata": {},
   "outputs": [
    {
     "name": "stderr",
     "output_type": "stream",
     "text": [
      "C:\\Users\\moham\\AppData\\Local\\Temp/ipykernel_15892/3918840920.py:6: SettingWithCopyWarning: \n",
      "A value is trying to be set on a copy of a slice from a DataFrame\n",
      "\n",
      "See the caveats in the documentation: https://pandas.pydata.org/pandas-docs/stable/user_guide/indexing.html#returning-a-view-versus-a-copy\n",
      "  df['StemText'][i] = ' '.join(pure_tokens)\n"
     ]
    }
   ],
   "source": [
    "df['StemText'] =''\n",
    "\n",
    "for i in range(0,df.shape[0]):\n",
    "    tokens = tokenization(df , i )  \n",
    "    pure_tokens = stemming(tokens)\n",
    "    df['StemText'][i] = ' '.join(pure_tokens)"
   ]
  },
  {
   "cell_type": "code",
   "execution_count": 10,
   "id": "fb19fda6",
   "metadata": {},
   "outputs": [],
   "source": [
    "df.to_csv('C:\\\\Users\\\\moham\\\\Downloads\\\\Stemming.csv')"
   ]
  },
  {
   "cell_type": "code",
   "execution_count": 9,
   "id": "f1c9c9ba",
   "metadata": {},
   "outputs": [],
   "source": [
    "import qalsadi.lemmatizer"
   ]
  },
  {
   "cell_type": "code",
   "execution_count": 12,
   "id": "26bb8c89",
   "metadata": {},
   "outputs": [],
   "source": [
    "def lemmatize(tokens):\n",
    "\n",
    "    lemm=qalsadi.lemmatizer.Lemmatizer()\n",
    "    lemmatized_tokens = [lemm.lemmatize(token) for token in tokens]\n",
    "    return lemmatized_tokens\n"
   ]
  },
  {
   "cell_type": "code",
   "execution_count": 13,
   "id": "7ddd852a",
   "metadata": {},
   "outputs": [],
   "source": [
    "df['lemmaText'] = ''\n",
    "for i in range(0,df.shape[0]):\n",
    "    tokens = tokenization(df, i )\n",
    "    pure_tokens = lemmatize(tokens)\n",
    "    df.loc[i,'lemmaText'] = ' '.join(pure_tokens)\n"
   ]
  },
  {
   "cell_type": "code",
   "execution_count": 16,
   "id": "11862b31",
   "metadata": {},
   "outputs": [
    {
     "data": {
      "text/plain": [
       "Unnamed: 0       0\n",
       "text             0\n",
       "wordBefore       0\n",
       "letterBefore     0\n",
       "number_count1    0\n",
       "cleaned_text1    0\n",
       "wordAfter        0\n",
       "letterAfter      0\n",
       "label            0\n",
       "StemText         0\n",
       "lemmaText        0\n",
       "dtype: int64"
      ]
     },
     "execution_count": 16,
     "metadata": {},
     "output_type": "execute_result"
    }
   ],
   "source": [
    "df.isnull().sum()"
   ]
  },
  {
   "cell_type": "code",
   "execution_count": 15,
   "id": "77e6933f",
   "metadata": {},
   "outputs": [],
   "source": [
    "df.to_csv('C:\\\\Users\\\\moham\\\\Downloads\\\\FinallyLemmas.csv')"
   ]
  },
  {
   "cell_type": "code",
   "execution_count": 35,
   "id": "a4a83d09",
   "metadata": {},
   "outputs": [
    {
     "data": {
      "text/plain": [
       "count    58023.000000\n",
       "mean       349.764680\n",
       "std        316.963814\n",
       "min          1.000000\n",
       "25%        143.000000\n",
       "50%        258.000000\n",
       "75%        439.000000\n",
       "max       5786.000000\n",
       "Name: wordBefore, dtype: float64"
      ]
     },
     "execution_count": 35,
     "metadata": {},
     "output_type": "execute_result"
    }
   ],
   "source": [
    "df.wordBefore.describe()"
   ]
  },
  {
   "cell_type": "code",
   "execution_count": 36,
   "id": "fd4b6f74",
   "metadata": {},
   "outputs": [
    {
     "data": {
      "text/plain": [
       "count    58023.000000\n",
       "mean       274.670045\n",
       "std        244.261546\n",
       "min          1.000000\n",
       "25%        115.000000\n",
       "50%        205.000000\n",
       "75%        343.000000\n",
       "max       4475.000000\n",
       "Name: wordAfter, dtype: float64"
      ]
     },
     "execution_count": 36,
     "metadata": {},
     "output_type": "execute_result"
    }
   ],
   "source": [
    "df.wordAfter.describe()"
   ]
  },
  {
   "cell_type": "code",
   "execution_count": 39,
   "id": "402f84a3",
   "metadata": {},
   "outputs": [
    {
     "data": {
      "text/plain": [
       "0    6447\n",
       "1    6447\n",
       "2    6447\n",
       "3    6447\n",
       "4    6447\n",
       "5    6447\n",
       "6    6447\n",
       "7    6447\n",
       "8    6447\n",
       "Name: label, dtype: int64"
      ]
     },
     "execution_count": 39,
     "metadata": {},
     "output_type": "execute_result"
    }
   ],
   "source": [
    "df.label.value_counts()"
   ]
  },
  {
   "cell_type": "code",
   "execution_count": null,
   "id": "cee68c12",
   "metadata": {},
   "outputs": [],
   "source": []
  },
  {
   "cell_type": "code",
   "execution_count": null,
   "id": "b9568461",
   "metadata": {},
   "outputs": [],
   "source": []
  },
  {
   "cell_type": "code",
   "execution_count": null,
   "id": "cbfdd747",
   "metadata": {},
   "outputs": [],
   "source": []
  },
  {
   "cell_type": "code",
   "execution_count": null,
   "id": "f97e3bdd",
   "metadata": {},
   "outputs": [],
   "source": []
  },
  {
   "cell_type": "code",
   "execution_count": null,
   "id": "d12b9fc6",
   "metadata": {},
   "outputs": [],
   "source": []
  },
  {
   "cell_type": "code",
   "execution_count": null,
   "id": "c12f9d07",
   "metadata": {},
   "outputs": [],
   "source": []
  },
  {
   "cell_type": "code",
   "execution_count": null,
   "id": "7886dcb3",
   "metadata": {},
   "outputs": [],
   "source": []
  },
  {
   "cell_type": "code",
   "execution_count": null,
   "id": "89424726",
   "metadata": {},
   "outputs": [],
   "source": []
  },
  {
   "cell_type": "code",
   "execution_count": null,
   "id": "e2a303b2",
   "metadata": {},
   "outputs": [],
   "source": []
  },
  {
   "cell_type": "code",
   "execution_count": null,
   "id": "05190e63",
   "metadata": {},
   "outputs": [],
   "source": []
  },
  {
   "cell_type": "code",
   "execution_count": null,
   "id": "6e1a360d",
   "metadata": {},
   "outputs": [],
   "source": []
  },
  {
   "cell_type": "code",
   "execution_count": null,
   "id": "86e90526",
   "metadata": {},
   "outputs": [],
   "source": []
  }
 ],
 "metadata": {
  "kernelspec": {
   "display_name": "Python 3 (ipykernel)",
   "language": "python",
   "name": "python3"
  },
  "language_info": {
   "codemirror_mode": {
    "name": "ipython",
    "version": 3
   },
   "file_extension": ".py",
   "mimetype": "text/x-python",
   "name": "python",
   "nbconvert_exporter": "python",
   "pygments_lexer": "ipython3",
   "version": "3.9.7"
  }
 },
 "nbformat": 4,
 "nbformat_minor": 5
}
