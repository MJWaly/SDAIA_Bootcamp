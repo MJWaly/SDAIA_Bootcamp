{
  "cells": [
    {
      "cell_type": "code",
      "execution_count": 1,
      "id": "636c92bb",
      "metadata": {
        "id": "636c92bb"
      },
      "outputs": [],
      "source": [
        "import pandas as pd\n",
        "from sklearn.model_selection import train_test_split\n",
        "from sklearn.svm import SVC\n",
        "from sklearn.feature_extraction.text import TfidfVectorizer\n",
        "from sklearn.metrics import accuracy_score, classification_report"
      ]
    },
    {
      "cell_type": "code",
      "source": [
        "from google.colab import drive\n",
        "drive.mount('/content/drive')"
      ],
      "metadata": {
        "colab": {
          "base_uri": "https://localhost:8080/"
        },
        "id": "xJLUQCj3n4r2",
        "outputId": "2853b1cf-b976-4864-8915-194b38c5e6b9"
      },
      "id": "xJLUQCj3n4r2",
      "execution_count": 2,
      "outputs": [
        {
          "output_type": "stream",
          "name": "stdout",
          "text": [
            "Mounted at /content/drive\n"
          ]
        }
      ]
    },
    {
      "cell_type": "code",
      "execution_count": 3,
      "id": "8b2d7c68",
      "metadata": {
        "id": "8b2d7c68"
      },
      "outputs": [],
      "source": [
        "df=pd.read_csv('/content/drive/MyDrive/Copy of FinallyLemmas.csv')"
      ]
    },
    {
      "cell_type": "code",
      "execution_count": 4,
      "id": "1022cde7",
      "metadata": {
        "id": "1022cde7"
      },
      "outputs": [],
      "source": [
        "X = df.drop(columns='label')\n",
        "y = df['label']"
      ]
    },
    {
      "cell_type": "code",
      "execution_count": 5,
      "id": "70744eeb",
      "metadata": {
        "id": "70744eeb"
      },
      "outputs": [],
      "source": [
        "X_train, X_test, y_train, y_test = train_test_split(X, y, test_size=0.3, random_state=42)\n",
        "X_val, X_test, y_val, y_test = train_test_split(X_test,y_test, test_size=0.5, random_state=42)\n"
      ]
    },
    {
      "cell_type": "markdown",
      "id": "988af4dd",
      "metadata": {
        "id": "988af4dd"
      },
      "source": [
        "# Train 70%\n",
        "# Validation 15%\n",
        "# Testing 15%"
      ]
    },
    {
      "cell_type": "code",
      "execution_count": 6,
      "id": "38973816",
      "metadata": {
        "colab": {
          "base_uri": "https://localhost:8080/"
        },
        "id": "38973816",
        "outputId": "35c8a64d-9e86-4498-e9f0-7cc6e7f90d19"
      },
      "outputs": [
        {
          "output_type": "stream",
          "name": "stdout",
          "text": [
            "SVM Accuracy: 0.97\n",
            "              precision    recall  f1-score   support\n",
            "\n",
            "           0       0.99      0.98      0.98       983\n",
            "           1       0.98      0.99      0.98       973\n",
            "           2       0.94      0.95      0.95       970\n",
            "           3       0.96      0.99      0.98       972\n",
            "           4       0.96      0.95      0.96       961\n",
            "           5       0.96      0.98      0.97       993\n",
            "           6       0.99      0.99      0.99       934\n",
            "           7       0.97      0.94      0.95       950\n",
            "           8       0.98      0.96      0.97       967\n",
            "\n",
            "    accuracy                           0.97      8703\n",
            "   macro avg       0.97      0.97      0.97      8703\n",
            "weighted avg       0.97      0.97      0.97      8703\n",
            "\n"
          ]
        }
      ],
      "source": [
        "tfidf_vectorizer = TfidfVectorizer()\n",
        "\n",
        "train_feature_tfidf = tfidf_vectorizer.fit_transform(X_train.lemmaText)\n",
        "\n",
        "test_feature_tfidf = tfidf_vectorizer.transform(X_val.lemmaText)\n",
        "\n",
        "svm_classifier = SVC(kernel='rbf')\n",
        "\n",
        "svm_classifier.fit(train_feature_tfidf, y_train)\n",
        "\n",
        "svm_prediction = svm_classifier.predict(test_feature_tfidf)\n",
        "\n",
        "svm_accuracy = accuracy_score(y_val, svm_prediction)\n",
        "print(f\"SVM Accuracy: {svm_accuracy:.2f}\")\n",
        "\n",
        "print(classification_report(y_val, svm_prediction))\n"
      ]
    },
    {
      "cell_type": "code",
      "execution_count": 7,
      "id": "6d7e8e8f",
      "metadata": {
        "id": "6d7e8e8f"
      },
      "outputs": [],
      "source": [
        "Testing = tfidf_vectorizer.transform(X_test.lemmaText)\n"
      ]
    },
    {
      "cell_type": "code",
      "execution_count": 8,
      "id": "f696a232",
      "metadata": {
        "colab": {
          "base_uri": "https://localhost:8080/"
        },
        "id": "f696a232",
        "outputId": "17a80223-1dd3-48c3-aae6-d3275ba8c36d"
      },
      "outputs": [
        {
          "output_type": "stream",
          "name": "stdout",
          "text": [
            "SVM Accuracy: 0.97\n",
            "              precision    recall  f1-score   support\n",
            "\n",
            "           0       0.99      0.97      0.98       995\n",
            "           1       0.98      0.99      0.98       971\n",
            "           2       0.94      0.96      0.95       941\n",
            "           3       0.95      0.98      0.96       920\n",
            "           4       0.96      0.95      0.96      1015\n",
            "           5       0.95      0.97      0.96       961\n",
            "           6       1.00      0.99      0.99       977\n",
            "           7       0.97      0.94      0.95       938\n",
            "           8       0.98      0.96      0.97       986\n",
            "\n",
            "    accuracy                           0.97      8704\n",
            "   macro avg       0.97      0.97      0.97      8704\n",
            "weighted avg       0.97      0.97      0.97      8704\n",
            "\n"
          ]
        }
      ],
      "source": [
        "svm_prediction = svm_classifier.predict(Testing)\n",
        "\n",
        "svm_accuracy = accuracy_score(y_test, svm_prediction)\n",
        "print(f\"SVM Accuracy: {svm_accuracy:.2f}\")\n",
        "\n",
        "print(classification_report(y_test, svm_prediction))\n"
      ]
    },
    {
      "cell_type": "code",
      "source": [
        "import joblib\n",
        "joblib.dump(svm_classifier, 'LastSVM.pkl')\n"
      ],
      "metadata": {
        "colab": {
          "base_uri": "https://localhost:8080/"
        },
        "id": "2FkQ_YIkraU5",
        "outputId": "14702776-ebe9-4423-eb10-6923cbea1dcb"
      },
      "id": "2FkQ_YIkraU5",
      "execution_count": 9,
      "outputs": [
        {
          "output_type": "execute_result",
          "data": {
            "text/plain": [
              "['LastSVM.pkl']"
            ]
          },
          "metadata": {},
          "execution_count": 9
        }
      ]
    },
    {
      "cell_type": "code",
      "execution_count": 12,
      "id": "3cac21b7",
      "metadata": {
        "colab": {
          "base_uri": "https://localhost:8080/",
          "height": 214
        },
        "id": "3cac21b7",
        "outputId": "da7e156d-f0ea-426e-f4a0-719a38bfff5d"
      },
      "outputs": [
        {
          "output_type": "stream",
          "name": "stderr",
          "text": [
            "/usr/local/lib/python3.10/dist-packages/sklearn/linear_model/_logistic.py:458: ConvergenceWarning: lbfgs failed to converge (status=1):\n",
            "STOP: TOTAL NO. of ITERATIONS REACHED LIMIT.\n",
            "\n",
            "Increase the number of iterations (max_iter) or scale the data as shown in:\n",
            "    https://scikit-learn.org/stable/modules/preprocessing.html\n",
            "Please also refer to the documentation for alternative solver options:\n",
            "    https://scikit-learn.org/stable/modules/linear_model.html#logistic-regression\n",
            "  n_iter_i = _check_optimize_result(\n"
          ]
        },
        {
          "output_type": "execute_result",
          "data": {
            "text/plain": [
              "LogisticRegression(random_state=42)"
            ],
            "text/html": [
              "<style>#sk-container-id-1 {color: black;background-color: white;}#sk-container-id-1 pre{padding: 0;}#sk-container-id-1 div.sk-toggleable {background-color: white;}#sk-container-id-1 label.sk-toggleable__label {cursor: pointer;display: block;width: 100%;margin-bottom: 0;padding: 0.3em;box-sizing: border-box;text-align: center;}#sk-container-id-1 label.sk-toggleable__label-arrow:before {content: \"▸\";float: left;margin-right: 0.25em;color: #696969;}#sk-container-id-1 label.sk-toggleable__label-arrow:hover:before {color: black;}#sk-container-id-1 div.sk-estimator:hover label.sk-toggleable__label-arrow:before {color: black;}#sk-container-id-1 div.sk-toggleable__content {max-height: 0;max-width: 0;overflow: hidden;text-align: left;background-color: #f0f8ff;}#sk-container-id-1 div.sk-toggleable__content pre {margin: 0.2em;color: black;border-radius: 0.25em;background-color: #f0f8ff;}#sk-container-id-1 input.sk-toggleable__control:checked~div.sk-toggleable__content {max-height: 200px;max-width: 100%;overflow: auto;}#sk-container-id-1 input.sk-toggleable__control:checked~label.sk-toggleable__label-arrow:before {content: \"▾\";}#sk-container-id-1 div.sk-estimator input.sk-toggleable__control:checked~label.sk-toggleable__label {background-color: #d4ebff;}#sk-container-id-1 div.sk-label input.sk-toggleable__control:checked~label.sk-toggleable__label {background-color: #d4ebff;}#sk-container-id-1 input.sk-hidden--visually {border: 0;clip: rect(1px 1px 1px 1px);clip: rect(1px, 1px, 1px, 1px);height: 1px;margin: -1px;overflow: hidden;padding: 0;position: absolute;width: 1px;}#sk-container-id-1 div.sk-estimator {font-family: monospace;background-color: #f0f8ff;border: 1px dotted black;border-radius: 0.25em;box-sizing: border-box;margin-bottom: 0.5em;}#sk-container-id-1 div.sk-estimator:hover {background-color: #d4ebff;}#sk-container-id-1 div.sk-parallel-item::after {content: \"\";width: 100%;border-bottom: 1px solid gray;flex-grow: 1;}#sk-container-id-1 div.sk-label:hover label.sk-toggleable__label {background-color: #d4ebff;}#sk-container-id-1 div.sk-serial::before {content: \"\";position: absolute;border-left: 1px solid gray;box-sizing: border-box;top: 0;bottom: 0;left: 50%;z-index: 0;}#sk-container-id-1 div.sk-serial {display: flex;flex-direction: column;align-items: center;background-color: white;padding-right: 0.2em;padding-left: 0.2em;position: relative;}#sk-container-id-1 div.sk-item {position: relative;z-index: 1;}#sk-container-id-1 div.sk-parallel {display: flex;align-items: stretch;justify-content: center;background-color: white;position: relative;}#sk-container-id-1 div.sk-item::before, #sk-container-id-1 div.sk-parallel-item::before {content: \"\";position: absolute;border-left: 1px solid gray;box-sizing: border-box;top: 0;bottom: 0;left: 50%;z-index: -1;}#sk-container-id-1 div.sk-parallel-item {display: flex;flex-direction: column;z-index: 1;position: relative;background-color: white;}#sk-container-id-1 div.sk-parallel-item:first-child::after {align-self: flex-end;width: 50%;}#sk-container-id-1 div.sk-parallel-item:last-child::after {align-self: flex-start;width: 50%;}#sk-container-id-1 div.sk-parallel-item:only-child::after {width: 0;}#sk-container-id-1 div.sk-dashed-wrapped {border: 1px dashed gray;margin: 0 0.4em 0.5em 0.4em;box-sizing: border-box;padding-bottom: 0.4em;background-color: white;}#sk-container-id-1 div.sk-label label {font-family: monospace;font-weight: bold;display: inline-block;line-height: 1.2em;}#sk-container-id-1 div.sk-label-container {text-align: center;}#sk-container-id-1 div.sk-container {/* jupyter's `normalize.less` sets `[hidden] { display: none; }` but bootstrap.min.css set `[hidden] { display: none !important; }` so we also need the `!important` here to be able to override the default hidden behavior on the sphinx rendered scikit-learn.org. See: https://github.com/scikit-learn/scikit-learn/issues/21755 */display: inline-block !important;position: relative;}#sk-container-id-1 div.sk-text-repr-fallback {display: none;}</style><div id=\"sk-container-id-1\" class=\"sk-top-container\"><div class=\"sk-text-repr-fallback\"><pre>LogisticRegression(random_state=42)</pre><b>In a Jupyter environment, please rerun this cell to show the HTML representation or trust the notebook. <br />On GitHub, the HTML representation is unable to render, please try loading this page with nbviewer.org.</b></div><div class=\"sk-container\" hidden><div class=\"sk-item\"><div class=\"sk-estimator sk-toggleable\"><input class=\"sk-toggleable__control sk-hidden--visually\" id=\"sk-estimator-id-1\" type=\"checkbox\" checked><label for=\"sk-estimator-id-1\" class=\"sk-toggleable__label sk-toggleable__label-arrow\">LogisticRegression</label><div class=\"sk-toggleable__content\"><pre>LogisticRegression(random_state=42)</pre></div></div></div></div></div>"
            ]
          },
          "metadata": {},
          "execution_count": 12
        }
      ],
      "source": [
        "from sklearn.linear_model import LogisticRegression\n",
        "\n",
        "lr_clf = LogisticRegression(random_state=42)\n",
        "lr_clf.fit(train_feature_tfidf, y_train)"
      ]
    },
    {
      "cell_type": "code",
      "execution_count": 13,
      "id": "36e035ad",
      "metadata": {
        "colab": {
          "base_uri": "https://localhost:8080/"
        },
        "id": "36e035ad",
        "outputId": "ab1fc351-0ebe-4c4b-c39d-5f8330587b1b"
      },
      "outputs": [
        {
          "output_type": "stream",
          "name": "stdout",
          "text": [
            "Training Accuracy: 0.9825930667717155\n"
          ]
        }
      ],
      "source": [
        "training_accuracy = lr_clf.score(train_feature_tfidf, y_train)\n",
        "print(\"Training Accuracy:\", training_accuracy)"
      ]
    },
    {
      "cell_type": "code",
      "execution_count": 14,
      "id": "ae2fe5ca",
      "metadata": {
        "colab": {
          "base_uri": "https://localhost:8080/"
        },
        "id": "ae2fe5ca",
        "outputId": "d6f70916-d55e-462b-b7f5-f0778c62f019"
      },
      "outputs": [
        {
          "output_type": "stream",
          "name": "stdout",
          "text": [
            "Validation Accuracy: 0.9662185453291968\n"
          ]
        }
      ],
      "source": [
        "y_pred = lr_clf.predict(test_feature_tfidf)\n",
        "val_accuracy = accuracy_score(y_val, y_pred)\n",
        "print(\"Validation Accuracy:\", val_accuracy)"
      ]
    },
    {
      "cell_type": "code",
      "execution_count": 15,
      "id": "d7513d2e",
      "metadata": {
        "colab": {
          "base_uri": "https://localhost:8080/"
        },
        "id": "d7513d2e",
        "outputId": "f67813f0-cdc9-414b-da77-0cc1d7f22c8c"
      },
      "outputs": [
        {
          "output_type": "stream",
          "name": "stdout",
          "text": [
            "LR Accuracy: 0.96\n",
            "              precision    recall  f1-score   support\n",
            "\n",
            "           0       0.99      0.97      0.98       995\n",
            "           1       0.98      0.99      0.98       971\n",
            "           2       0.93      0.96      0.94       941\n",
            "           3       0.94      0.97      0.96       920\n",
            "           4       0.96      0.95      0.95      1015\n",
            "           5       0.95      0.97      0.96       961\n",
            "           6       1.00      0.99      0.99       977\n",
            "           7       0.97      0.93      0.95       938\n",
            "           8       0.97      0.95      0.96       986\n",
            "\n",
            "    accuracy                           0.96      8704\n",
            "   macro avg       0.96      0.96      0.96      8704\n",
            "weighted avg       0.96      0.96      0.96      8704\n",
            "\n"
          ]
        }
      ],
      "source": [
        "lr_prediction = lr_clf.predict(Testing)\n",
        "\n",
        "lr_accuracy = accuracy_score(y_test, lr_prediction)\n",
        "print(f\"LR Accuracy: {lr_accuracy:.2f}\")\n",
        "\n",
        "print(classification_report(y_test, lr_prediction))\n"
      ]
    },
    {
      "cell_type": "code",
      "execution_count": 17,
      "id": "acb4061a",
      "metadata": {
        "colab": {
          "base_uri": "https://localhost:8080/"
        },
        "id": "acb4061a",
        "outputId": "77cdd794-debd-4fd8-eef1-b1e4d215ce1e"
      },
      "outputs": [
        {
          "output_type": "execute_result",
          "data": {
            "text/plain": [
              "['LastLR.pkl']"
            ]
          },
          "metadata": {},
          "execution_count": 17
        }
      ],
      "source": [
        "joblib.dump(lr_clf, 'LastLR.pkl')\n"
      ]
    },
    {
      "cell_type": "code",
      "execution_count": 21,
      "id": "f5efbfc9",
      "metadata": {
        "colab": {
          "base_uri": "https://localhost:8080/"
        },
        "id": "f5efbfc9",
        "outputId": "14821d8b-a741-46fd-c44b-21ac7cc4f37a"
      },
      "outputs": [
        {
          "output_type": "stream",
          "name": "stdout",
          "text": [
            "XGBoost Accuracy: 0.96\n",
            "              precision    recall  f1-score   support\n",
            "\n",
            "           0       0.98      0.98      0.98       983\n",
            "           1       0.98      0.98      0.98       973\n",
            "           2       0.92      0.95      0.93       970\n",
            "           3       0.97      0.97      0.97       972\n",
            "           4       0.96      0.93      0.95       961\n",
            "           5       0.95      0.97      0.96       993\n",
            "           6       0.99      0.99      0.99       934\n",
            "           7       0.94      0.93      0.94       950\n",
            "           8       0.97      0.95      0.96       967\n",
            "\n",
            "    accuracy                           0.96      8703\n",
            "   macro avg       0.96      0.96      0.96      8703\n",
            "weighted avg       0.96      0.96      0.96      8703\n",
            "\n"
          ]
        }
      ],
      "source": [
        "import xgboost as xgb\n",
        "\n",
        "\n",
        "xgb_classifier = xgb.XGBClassifier()\n",
        "\n",
        "xgb_classifier.fit(train_feature_tfidf, y_train)\n",
        "\n",
        "xgb_prediction = xgb_classifier.predict(test_feature_tfidf)\n",
        "\n",
        "xgb_accuracy = accuracy_score(y_val, xgb_prediction)\n",
        "print(f\"XGBoost Accuracy: {xgb_accuracy:.2f}\")\n",
        "\n",
        "print(classification_report(y_val, xgb_prediction))\n"
      ]
    },
    {
      "cell_type": "code",
      "execution_count": 22,
      "id": "fe83bd29",
      "metadata": {
        "colab": {
          "base_uri": "https://localhost:8080/"
        },
        "id": "fe83bd29",
        "outputId": "49590b6d-24a7-478d-ede9-83c1fbd0aa28"
      },
      "outputs": [
        {
          "output_type": "stream",
          "name": "stdout",
          "text": [
            "XGBoost Accuracy: 0.96\n",
            "              precision    recall  f1-score   support\n",
            "\n",
            "           0       0.99      0.97      0.98       995\n",
            "           1       0.98      0.99      0.98       971\n",
            "           2       0.92      0.96      0.94       941\n",
            "           3       0.95      0.97      0.96       920\n",
            "           4       0.98      0.94      0.96      1015\n",
            "           5       0.95      0.97      0.96       961\n",
            "           6       0.99      0.98      0.99       977\n",
            "           7       0.95      0.93      0.94       938\n",
            "           8       0.96      0.96      0.96       986\n",
            "\n",
            "    accuracy                           0.96      8704\n",
            "   macro avg       0.96      0.96      0.96      8704\n",
            "weighted avg       0.96      0.96      0.96      8704\n",
            "\n"
          ]
        }
      ],
      "source": [
        "xgb_prediction = xgb_classifier.predict(Testing)\n",
        "\n",
        "xgb_accuracy = accuracy_score(y_test, xgb_prediction)\n",
        "print(f\"XGBoost Accuracy: {xgb_accuracy:.2f}\")\n",
        "\n",
        "print(classification_report(y_test, xgb_prediction))\n"
      ]
    },
    {
      "cell_type": "code",
      "execution_count": 23,
      "id": "041d1c9c",
      "metadata": {
        "colab": {
          "base_uri": "https://localhost:8080/"
        },
        "id": "041d1c9c",
        "outputId": "c507183b-4bfb-4767-b2f3-6ebf83c87aec"
      },
      "outputs": [
        {
          "output_type": "execute_result",
          "data": {
            "text/plain": [
              "['LastXGB.pkl']"
            ]
          },
          "metadata": {},
          "execution_count": 23
        }
      ],
      "source": [
        "joblib.dump(xgb_classifier, 'LastXGB.pkl')\n"
      ]
    },
    {
      "cell_type": "code",
      "execution_count": 24,
      "id": "d8c32081",
      "metadata": {
        "colab": {
          "base_uri": "https://localhost:8080/"
        },
        "id": "d8c32081",
        "outputId": "3ba8e1f4-1409-452a-efc1-1bcaf8a42bda"
      },
      "outputs": [
        {
          "output_type": "stream",
          "name": "stdout",
          "text": [
            "Naive Bayes Accuracy: 0.94\n",
            "              precision    recall  f1-score   support\n",
            "\n",
            "           0       0.99      0.92      0.95       983\n",
            "           1       0.95      0.97      0.96       973\n",
            "           2       0.86      0.93      0.90       970\n",
            "           3       0.96      0.96      0.96       972\n",
            "           4       0.90      0.92      0.91       961\n",
            "           5       0.88      0.98      0.92       993\n",
            "           6       0.99      0.98      0.99       934\n",
            "           7       0.98      0.87      0.92       950\n",
            "           8       0.94      0.92      0.93       967\n",
            "\n",
            "    accuracy                           0.94      8703\n",
            "   macro avg       0.94      0.94      0.94      8703\n",
            "weighted avg       0.94      0.94      0.94      8703\n",
            "\n"
          ]
        }
      ],
      "source": [
        "from sklearn.naive_bayes import MultinomialNB\n",
        "\n",
        "# Create a Multinomial Naive Bayes classifier\n",
        "nb_classifier = MultinomialNB()\n",
        "\n",
        "# Fit the classifier to the training data\n",
        "nb_classifier.fit(train_feature_tfidf, y_train)\n",
        "\n",
        "# Make predictions on the validation data\n",
        "nb_prediction = nb_classifier.predict(test_feature_tfidf)\n",
        "\n",
        "# Calculate accuracy\n",
        "nb_accuracy = accuracy_score(y_val, nb_prediction)\n",
        "print(f\"Naive Bayes Accuracy: {nb_accuracy:.2f}\")\n",
        "\n",
        "# You can also print other metrics like classification report\n",
        "print(classification_report(y_val, nb_prediction))\n"
      ]
    },
    {
      "cell_type": "code",
      "execution_count": 26,
      "id": "274d100b",
      "metadata": {
        "colab": {
          "base_uri": "https://localhost:8080/"
        },
        "id": "274d100b",
        "outputId": "dee1f897-e35a-4329-d609-e9e505e24981"
      },
      "outputs": [
        {
          "output_type": "stream",
          "name": "stdout",
          "text": [
            "NB Accuracy: 0.94\n",
            "              precision    recall  f1-score   support\n",
            "\n",
            "           0       0.99      0.90      0.95       995\n",
            "           1       0.96      0.98      0.97       971\n",
            "           2       0.88      0.94      0.91       941\n",
            "           3       0.95      0.95      0.95       920\n",
            "           4       0.92      0.94      0.93      1015\n",
            "           5       0.86      0.97      0.91       961\n",
            "           6       1.00      0.98      0.99       977\n",
            "           7       0.98      0.86      0.92       938\n",
            "           8       0.93      0.91      0.92       986\n",
            "\n",
            "    accuracy                           0.94      8704\n",
            "   macro avg       0.94      0.94      0.94      8704\n",
            "weighted avg       0.94      0.94      0.94      8704\n",
            "\n"
          ]
        }
      ],
      "source": [
        "nb_prediction = nb_classifier.predict(Testing)\n",
        "\n",
        "nb_accuracy = accuracy_score(y_test, nb_prediction)\n",
        "print(f\"NB Accuracy: {nb_accuracy:.2f}\")\n",
        "\n",
        "print(classification_report(y_test, nb_prediction))\n"
      ]
    },
    {
      "cell_type": "code",
      "source": [
        "joblib.dump(xgb_classifier, 'LastNB.pkl')\n"
      ],
      "metadata": {
        "colab": {
          "base_uri": "https://localhost:8080/"
        },
        "id": "9O1lQgE5EDal",
        "outputId": "aa3abc5d-36f9-447a-82eb-bd1b8bb6a066"
      },
      "id": "9O1lQgE5EDal",
      "execution_count": 27,
      "outputs": [
        {
          "output_type": "execute_result",
          "data": {
            "text/plain": [
              "['LastNB.pkl']"
            ]
          },
          "metadata": {},
          "execution_count": 27
        }
      ]
    }
  ],
  "metadata": {
    "kernelspec": {
      "display_name": "Python 3",
      "name": "python3"
    },
    "language_info": {
      "codemirror_mode": {
        "name": "ipython",
        "version": 3
      },
      "file_extension": ".py",
      "mimetype": "text/x-python",
      "name": "python",
      "nbconvert_exporter": "python",
      "pygments_lexer": "ipython3",
      "version": "3.9.7"
    },
    "colab": {
      "provenance": [],
      "gpuType": "T4"
    },
    "accelerator": "GPU"
  },
  "nbformat": 4,
  "nbformat_minor": 5
}